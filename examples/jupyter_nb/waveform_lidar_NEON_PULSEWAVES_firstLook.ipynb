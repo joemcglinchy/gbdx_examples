{
 "cells": [
  {
   "cell_type": "code",
   "execution_count": 2,
   "metadata": {},
   "outputs": [],
   "source": [
    "import numpy as np\n",
    "from numba import jit\n",
    "from pylidar import lidarprocessor\n",
    "from pylidar.toolbox import spatial\n",
    "from pylidar.lidarformats import generic"
   ]
  },
  {
   "cell_type": "code",
   "execution_count": 3,
   "metadata": {},
   "outputs": [],
   "source": [
    "BINSIZE = 1.0\n",
    "\n",
    "@jit\n",
    "def findMinZs(data, outImage, xMin, yMax):\n",
    "    for i in range(data.shape[0]):\n",
    "        if data[i]['CLASSIFICATION'] == lidarprocessor.CLASSIFICATION_GROUND:\n",
    "            row, col = spatial.xyToRowColNumba(data[i]['X'], data[i]['Y'],\n",
    "                    xMin, yMax, BINSIZE)\n",
    "            if outImage[row, col] != 0:\n",
    "                if data[i]['Z'] < outImage[row, col]:\n",
    "                    outImage[row, col] = data[i]['Z']\n",
    "            else:\n",
    "                outImage[row, col] = data[i]['Z']\n",
    "\n"
   ]
  },
  {
   "cell_type": "code",
   "execution_count": 31,
   "metadata": {},
   "outputs": [],
   "source": [
    "def processChunk(data, otherArgs):\n",
    "    data = data.input1.getPoints(colNames=['X', 'Y', 'Z', 'CLASSIFICATION'])\n",
    "    findMinZs(data, otherArgs.outImage, otherArgs.xMin, otherArgs.yMax)\n",
    "    return data\n",
    "\n"
   ]
  },
  {
   "cell_type": "code",
   "execution_count": 15,
   "metadata": {},
   "outputs": [],
   "source": [
    "inFile = r\"C:\\Projects\\RD\\NEON_data\\NIWO\\waveform\\NEON_D13_NIWO_DP1_L001-1_2017090415_translate.plz\"\n",
    "# inFile = r\"C:\\Projects\\RD\\NEON_data\\NIWO\\waveform\\NEON_D13_NIWO_DP1_L001-1_2017090415_translate.wvz\" #results in error\n",
    "info = generic.getLidarFileInfo(inFile)\n",
    "header = info.header\n",
    "\n"
   ]
  },
  {
   "cell_type": "code",
   "execution_count": 16,
   "metadata": {
    "scrolled": true
   },
   "outputs": [
    {
     "name": "stdout",
     "output_type": "stream",
     "text": [
      "{'SYSTEM_IDENTIFIER': 'ALTM GEMINI\\x00\\x00\\x00\\x00\\x00\\x00\\x00\\x00\\x00\\x00\\x00\\x00\\x00\\x00\\x00\\x00\\x00\\x00\\x00\\x00\\x00\\x00\\x00\\x00\\x00\\x00\\x00\\x00\\x00\\x00\\x00\\x00\\x00\\x00\\x00\\x00\\x00\\x00\\x00\\x00\\x00\\x00\\x00\\x00\\x00\\x00\\x00\\x00\\x00\\x00\\x00\\x00\\x00', 'PULSE_ATTRIBUTES': 0L, 'FILE_CREATION_DAY': 278L, 'HEADER_SIZE': 352L, 'PROJECT_ID_GUID_DATA_1': 1100783457L, 'PROJECT_ID_GUID_DATA_3': 18685L, 'PROJECT_ID_GUID_DATA_2': 40020L, 'FILE_SOURCE_ID': 111L, 'NUMBER_OF_VARIABLE_LENGTH_RECORDS': 6L, 'X_MAX': 451132.67, 'FILE_CREATION_YEAR': 2017L, 'GENERATING_SOFTWARE': 'OptechLMS\\x00\\x00\\x00\\x00\\x00\\x00\\x00\\x00\\x00\\x00\\x00\\x00\\x00\\x00\\x00\\x00\\x00\\x00\\x00\\x00\\x00\\x00\\x00\\x00\\x00\\x00\\x00\\x00\\x00\\x00\\x00\\x00\\x00\\x00\\x00\\x00\\x00\\x00\\x00\\x00\\x00\\x00\\x00\\x00\\x00\\x00\\x00\\x00\\x00\\x00\\x00\\x00\\x00\\x00\\x00', 'GLOBAL_PARAMETERS': 0L, 'Y_MAX': 4434680.77, 'Z_MAX': 4091.15, 'OFFSET_TO_PULSE_DATA': 2880L, 'Y_MIN': 4433020.94, 'Z_MIN': 2938.98, 'PULSE_SIZE': 48L, 'NUMBER_OF_APPENDED_VARIABLE_LENGTH_RECORDS': 0L, 'FILE_SIGNATURE': 'PulseWavesPulse\\x00', 'PULSE_COMPRESSION': 0L, 'NUMBER_OF_PULSES': 9017196L, 'X_MIN': 441236.94, 'PULSE_FORMAT': 0L, 'PROJECT_ID_GUID_DATA_4': array([158, 206, 240, 130, 150, 234, 176, 105], dtype=uint8)}\n"
     ]
    }
   ],
   "source": [
    "print(header)"
   ]
  },
  {
   "cell_type": "code",
   "execution_count": 17,
   "metadata": {},
   "outputs": [],
   "source": [
    "dataFiles = lidarprocessor.DataFiles()\n",
    "dataFiles.input1 = lidarprocessor.LidarFile(inFile, lidarprocessor.READ)\n",
    "\n",
    "xMin, yMax, ncols, nrows = spatial.getGridInfoFromHeader(header, BINSIZE)\n",
    "\n",
    "outImage = np.zeros((nrows, ncols))\n",
    "\n",
    "otherArgs = lidarprocessor.OtherArgs()\n",
    "otherArgs.outImage = outImage\n",
    "otherArgs.xMin = xMin\n",
    "otherArgs.yMax = yMax\n",
    "\n"
   ]
  },
  {
   "cell_type": "code",
   "execution_count": 27,
   "metadata": {},
   "outputs": [
    {
     "name": "stdout",
     "output_type": "stream",
     "text": [
      "441236.94\n",
      "4434680.77\n"
     ]
    }
   ],
   "source": [
    "print(otherArgs.xMin)\n",
    "print(otherArgs.yMax)"
   ]
  },
  {
   "cell_type": "code",
   "execution_count": 32,
   "metadata": {},
   "outputs": [],
   "source": [
    "test = lidarprocessor.doProcessing(processChunk, dataFiles, otherArgs=otherArgs)\n",
    "\n",
    "#iw = spatial.ImageWriter(outFile, tlx=xMin, tly=yMax, binSize=BINSIZE)\n",
    "#iw.setLayer(outImage)\n",
    "#iw.close()"
   ]
  },
  {
   "cell_type": "code",
   "execution_count": 12,
   "metadata": {},
   "outputs": [
    {
     "name": "stdout",
     "output_type": "stream",
     "text": [
      "(9896, 1660)\n"
     ]
    }
   ],
   "source": [
    "print(ncols,nrows)"
   ]
  },
  {
   "cell_type": "code",
   "execution_count": 30,
   "metadata": {},
   "outputs": [
    {
     "ename": "ImportError",
     "evalue": "No module named matplotlib",
     "output_type": "error",
     "traceback": [
      "\u001b[1;31m---------------------------------------------------------------------------\u001b[0m",
      "\u001b[1;31mImportError\u001b[0m                               Traceback (most recent call last)",
      "\u001b[1;32m<ipython-input-30-6ed58b2d4f17>\u001b[0m in \u001b[0;36m<module>\u001b[1;34m()\u001b[0m\n\u001b[0;32m      1\u001b[0m \u001b[0motherArgs\u001b[0m\u001b[1;33m.\u001b[0m\u001b[0moutImage\u001b[0m\u001b[1;33m.\u001b[0m\u001b[0mmin\u001b[0m\u001b[1;33m(\u001b[0m\u001b[1;33m)\u001b[0m\u001b[1;33m\u001b[0m\u001b[0m\n\u001b[1;32m----> 2\u001b[1;33m \u001b[1;32mfrom\u001b[0m \u001b[0mmatplotlib\u001b[0m \u001b[1;32mimport\u001b[0m \u001b[0mpyplot\u001b[0m \u001b[1;32mas\u001b[0m \u001b[0mplt\u001b[0m\u001b[1;33m\u001b[0m\u001b[0m\n\u001b[0m\u001b[0;32m      3\u001b[0m \u001b[0mplt\u001b[0m\u001b[1;33m.\u001b[0m\u001b[0mimshow\u001b[0m\u001b[1;33m(\u001b[0m\u001b[0motherArgs\u001b[0m\u001b[1;33m.\u001b[0m\u001b[0moutImage\u001b[0m\u001b[1;33m)\u001b[0m\u001b[1;33m\u001b[0m\u001b[0m\n",
      "\u001b[1;31mImportError\u001b[0m: No module named matplotlib"
     ]
    }
   ],
   "source": [
    "otherArgs.outImage.min()\n",
    "from matplotlib import pyplot as plt\n",
    "plt.imshow(otherArgs.outImage)\n"
   ]
  },
  {
   "cell_type": "code",
   "execution_count": null,
   "metadata": {},
   "outputs": [],
   "source": []
  }
 ],
 "metadata": {
  "kernelspec": {
   "display_name": "Python 2",
   "language": "python",
   "name": "python2"
  },
  "language_info": {
   "codemirror_mode": {
    "name": "ipython",
    "version": 2
   },
   "file_extension": ".py",
   "mimetype": "text/x-python",
   "name": "python",
   "nbconvert_exporter": "python",
   "pygments_lexer": "ipython2",
   "version": "2.7.14"
  }
 },
 "nbformat": 4,
 "nbformat_minor": 2
}
