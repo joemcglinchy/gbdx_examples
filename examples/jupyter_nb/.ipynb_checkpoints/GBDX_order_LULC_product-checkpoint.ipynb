{
 "cells": [
  {
   "cell_type": "markdown",
   "metadata": {},
   "source": [
    "This notebook will access the Digital Globe GBDX platform. For the Smart Cities pilot project, one of the information products needed is an impervious/pervious surface layer and a vegetation layer. \n",
    "\n",
    "First, import the required libraries and create an interface to GBDX. Note: the kernel will need to be set up with credentials. There is a way to do this by providing username and password, but not implemented here."
   ]
  },
  {
   "cell_type": "code",
   "execution_count": null,
   "metadata": {
    "collapsed": true
   },
   "outputs": [],
   "source": [
    "from gbdxtools import Interface\n",
    "import os,sys\n",
    "\n",
    "# Initialize the gbdxtools Interface\n",
    "gbdx = Interface()"
   ]
  },
  {
   "cell_type": "markdown",
   "metadata": {},
   "source": [
    "Before doing anything in the GBDX platform, the image that is going to be processed needs to be ordered. \n",
    "Here we have some scene IDs over Denver found using the image hunter application (imagehunter.apollomapping.com). The scene is ordered using the call to gbdx.ordering.order()\n"
   ]
  },
  {
   "cell_type": "code",
   "execution_count": null,
   "metadata": {
    "collapsed": true
   },
   "outputs": [],
   "source": [
    "scene_id = '104001000F443900' # august 2015 (commerce city)\n",
    "scene_id = '10300100612DE400' # big strip!\n",
    "scene_id = '103001002B3BEF00' # january, 2014 (lakewood)\n",
    "scene_id1 = '103001001AAB3D00' #8-5-2012 big strip\n"
   ]
  },
  {
   "cell_type": "markdown",
   "metadata": {},
   "source": [
    "before ordering, we can take a peak at the image we want to order using the CatalogImage API\n"
   ]
  },
  {
   "cell_type": "code",
   "execution_count": null,
   "metadata": {
    "collapsed": true
   },
   "outputs": [],
   "source": [
    "from gbdxtools import CatalogImage\n",
    "image = CatalogImage(sceneid)"
   ]
  },
  {
   "cell_type": "code",
   "execution_count": null,
   "metadata": {
    "collapsed": true
   },
   "outputs": [],
   "source": [
    "order_id1 = gbdx.ordering.order(scene_id1)\n",
    "print (order_id)\n",
    "\n",
    "status = gbdx.ordering.status(order_id)[0]\n",
    "print (status)"
   ]
  },
  {
   "cell_type": "code",
   "execution_count": null,
   "metadata": {
    "collapsed": true
   },
   "outputs": [],
   "source": [
    "# Make sure DRA is disabled if you are processing both the PAN+MS files\n",
    "#Edit the following line(s) to reflect specific folder(s) for the output file (example location provided)\n",
    "# data = str(status[0]['location'])\n",
    "data = str(gbdx.ordering.status(order_id)[0]['location'])\n",
    "aoptask = gbdx.Task(\"AOP_Strip_Processor\", data=data, enable_acomp=True, bands=\"MS\", enable_pansharpen=False, enable_dra=False)\n",
    "\n",
    "# Capture AOP task outputs\n",
    "log = aoptask.get_output('log')\n",
    "orthoed_output = aoptask.get_output('data')\n",
    "\n",
    "# Stage AOP output for the Protogen Task using the Protogen Prep Task\n",
    "pp_task = gbdx.Task(\"ProtogenPrep\",raster=aoptask.outputs.data.value)    \n",
    "\n",
    "# Setup ProtogenV2LULC Task\n",
    "prot_lulc = gbdx.Task(\"protogenV2LULC\",raster=pp_task.outputs.data.value)\n",
    "    \n",
    "# Run Combined Workflow\n",
    "workflow = gbdx.Workflow([ aoptask, pp_task, prot_lulc ])\n"
   ]
  }
 ],
 "metadata": {
  "kernelspec": {
   "display_name": "Python [joemcg_rootclone]",
   "language": "python",
   "name": "Python [joemcg_rootclone]"
  },
  "language_info": {
   "codemirror_mode": {
    "name": "ipython",
    "version": 2
   },
   "file_extension": ".py",
   "mimetype": "text/x-python",
   "name": "python",
   "nbconvert_exporter": "python",
   "pygments_lexer": "ipython2",
   "version": "2.7.12"
  }
 },
 "nbformat": 4,
 "nbformat_minor": 0
}
