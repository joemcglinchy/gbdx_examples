{
 "cells": [
  {
   "cell_type": "code",
   "execution_count": 1,
   "metadata": {},
   "outputs": [],
   "source": [
    "import numpy as np\n",
    "from numba import jit\n",
    "from pylidar import lidarprocessor\n",
    "from pylidar.toolbox import spatial\n",
    "from pylidar.lidarformats import pulsewaves\n",
    "from pylidar.lidarformats import generic\n",
    "from pylidar import userclasses as uc\n",
    "from matplotlib import pyplot as plt\n"
   ]
  },
  {
   "cell_type": "code",
   "execution_count": 2,
   "metadata": {},
   "outputs": [
    {
     "name": "stdout",
     "output_type": "stream",
     "text": [
      "True\n",
      "PulseWaves\n",
      "0\n"
     ]
    }
   ],
   "source": [
    "inFile = r\"C:\\Projects\\RD\\NEON_data\\NIWO\\waveform\\NEON_D13_NIWO_DP1_L001-1_2017090415_translate.plz\"\n",
    "# inFile = r\"C:\\Projects\\RD\\NEON_data\\NIWO\\waveform\\NEON_D13_NIWO_DP1_L001-1_2017090415_translate.wvz\" #results in error\n",
    "\n",
    "print (pulsewaves.isPulseWavesFile(inFile))\n",
    "pw_info = pulsewaves.PulseWavesFileInfo(inFile)\n",
    "print(pw_info.getDriverName())\n",
    "\n",
    "print(generic.READ)\n",
    "\n",
    "dataFiles = lidarprocessor.DataFiles()\n",
    "dataFiles.input1 = lidarprocessor.LidarFile(inFile, lidarprocessor.READ)\n",
    "\n",
    "#with pulsewaves.PulseWavesFile(inFile, generic.READ, 'test','test' ) as pw:\n",
    "#    header = pw.getHeader()\n",
    "#    tot_pulses = pw.getTotalNumberPulses()\n",
    "    \n"
   ]
  },
  {
   "cell_type": "code",
   "execution_count": 3,
   "metadata": {},
   "outputs": [
    {
     "name": "stdout",
     "output_type": "stream",
     "text": [
      "<pylidar.lidarprocessor.LidarFile object at 0x000000001352A358>\n"
     ]
    }
   ],
   "source": [
    "print(dataFiles.input1)"
   ]
  },
  {
   "cell_type": "code",
   "execution_count": 4,
   "metadata": {},
   "outputs": [
    {
     "name": "stdout",
     "output_type": "stream",
     "text": [
      "(441236.94, 4434680.77, 19791, 3320)\n"
     ]
    }
   ],
   "source": [
    "BINSIZE=0.5\n",
    "header = pw_info.header\n",
    "xMin, yMax, ncols, nrows = spatial.getGridInfoFromHeader(header, BINSIZE)\n",
    "print(xMin, yMax, ncols, nrows)"
   ]
  },
  {
   "cell_type": "code",
   "execution_count": 5,
   "metadata": {},
   "outputs": [],
   "source": [
    "def readFunc(data, otherArgs):\n",
    "    # returns 2d masked structured array with info about waveforms\n",
    "    # first axis is waveform number, second is pulse\n",
    "    #waveinfo = data.input1.getWaveformInfo()\n",
    "    otherArgs.waveinfo = data.input1.getWaveformInfo()\n",
    "    \n",
    "    # returns masked 3d radiance array\n",
    "    # first axis is waveform bin, second is waveform number, third is pulse\n",
    "    #recv = data.input1.getReceived()\n",
    "    #trans = data.input1.getTransmitted()\n",
    "    otherArgs.recv = data.input1.getReceived()\n",
    "    otherArgs.trans = data.input1.getTransmitted()\n",
    "    \n",
    "    #print('waveinfo\\n {}'.format(otherArgs.waveinfo))\n",
    "    #print('\\nrecv\\n {}'.format(otherArgs.recv))\n",
    "    #print('\\ntrans\\n {}'.format(otherArgs.trans))\n",
    "    \n",
    "    #return waveinfo\n",
    "    #return waveinfo, recv, trans\n",
    "\n"
   ]
  },
  {
   "cell_type": "code",
   "execution_count": 6,
   "metadata": {},
   "outputs": [],
   "source": [
    "inFile = r\"C:\\Projects\\RD\\NEON_data\\NIWO\\waveform\\NEON_D13_NIWO_DP1_L001-1_2017090415_translate_1.pls\"\n",
    "dataFiles = lidarprocessor.DataFiles()\n",
    "dataFiles.input1 = lidarprocessor.LidarFile(inFile, lidarprocessor.READ)\n",
    "\n",
    "otherArgs = lidarprocessor.OtherArgs()\n",
    "otherArgs.waveinfo = 0\n",
    "otherArgs.recv = 1\n",
    "otherArgs.trans = 2\n",
    "lidarprocessor.doProcessing(readFunc, dataFiles, otherArgs=otherArgs)\n",
    "#lidarprocessor.doProcessing(readFunc, dataFiles)"
   ]
  },
  {
   "cell_type": "code",
   "execution_count": 66,
   "metadata": {},
   "outputs": [
    {
     "name": "stdout",
     "output_type": "stream",
     "text": [
      "(2L, 38764L)\n",
      "[('NUMBER_OF_WAVEFORM_RECEIVED_BINS', '<u4'), ('RECEIVED_START_IDX', '<u8'), ('NUMBER_OF_WAVEFORM_TRANSMITTED_BINS', '<u4'), ('TRANSMITTED_START_IDX', '<u8'), ('RANGE_TO_WAVEFORM_START', '<f8'), ('CHANNEL', 'u1'), ('RECEIVE_WAVE_GAIN', '<f4'), ('RECEIVE_WAVE_OFFSET', '<f4'), ('TRANS_WAVE_GAIN', '<f4'), ('TRANS_WAVE_OFFSET', '<f4')]\n",
      "[[0.0 0.0 0.0 ..., 0.0 0.0 0.0]\n",
      " [6997.0 7005.0 7013.0 ..., 6789.0 6789.0 6789.0]]\n",
      "1.0\n"
     ]
    }
   ],
   "source": [
    "print(otherArgs.waveinfo.shape)\n",
    "print(otherArgs.waveinfo.dtype)\n",
    "print(otherArgs.waveinfo['RANGE_TO_WAVEFORM_START'])\n",
    "print(otherArgs.waveinfo['RECEIVE_WAVE_GAIN'].max())"
   ]
  },
  {
   "cell_type": "code",
   "execution_count": 40,
   "metadata": {},
   "outputs": [
    {
     "name": "stdout",
     "output_type": "stream",
     "text": [
      "(96L, 2L, 38764L)\n",
      "int32\n",
      "[1665, 2626, 2686, 6539, 6745, 6776, 8010, 15386, 21963, 29741, 29856, 29858, 29862, 29865, 35808]\n"
     ]
    }
   ],
   "source": [
    "print(otherArgs.recv.shape)\n",
    "print(otherArgs.recv.dtype)\n",
    "\n",
    "ex=[]\n",
    "for i in range(38764):\n",
    "\n",
    "    # get the relative maxima locations\n",
    "    x = otherArgs.recv[:,1,i]\n",
    "    amax = (x[1:-1] > x[:-2]) & (x[1:-1] > x[2:])\n",
    "    locs = np.arange(1, x.size-1)[amax]\n",
    "    \n",
    "    # this grabs the index if there are more than 10 relative maxima..\n",
    "    # data is noisy though\n",
    "    if locs.size > 10:\n",
    "        ex.append(i)\n",
    "    \n",
    "print ex   \n",
    "#plt.plot(otherArgs.recv[:,1,ex])\n",
    "#plt.show()\n",
    "#print(otherArgs.recv)\n",
    "\n"
   ]
  },
  {
   "cell_type": "code",
   "execution_count": 60,
   "metadata": {},
   "outputs": [
    {
     "data": {
      "image/png": "[encoded data removed]",
      "text/plain": [
       "<matplotlib.figure.Figure at 0x18ca2518>"
      ]
     },
     "metadata": {},
     "output_type": "display_data"
    }
   ],
   "source": [
    "plt.plot(otherArgs.recv[:,1,ex[9]])\n",
    "plt.show()\n",
    "\n",
    "#9,10, 11,\n"
   ]
  },
  {
   "cell_type": "code",
   "execution_count": 61,
   "metadata": {},
   "outputs": [
    {
     "name": "stdout",
     "output_type": "stream",
     "text": [
      "(48L, 2L, 38764L)\n",
      "int32\n"
     ]
    },
    {
     "data": {
      "image/png": "[encoded data removed]",
      "text/plain": [
       "<matplotlib.figure.Figure at 0x13ace828>"
      ]
     },
     "metadata": {},
     "output_type": "display_data"
    },
    {
     "name": "stdout",
     "output_type": "stream",
     "text": [
      "[[[197 197 195 ..., 198 195 195]\n",
      "  [-- -- -- ..., -- -- --]]\n",
      "\n",
      " [[201 195 193 ..., 195 197 193]\n",
      "  [-- -- -- ..., -- -- --]]\n",
      "\n",
      " [[197 197 193 ..., 197 194 197]\n",
      "  [-- -- -- ..., -- -- --]]\n",
      "\n",
      " ..., \n",
      " [[212 215 223 ..., 214 220 --]\n",
      "  [-- -- -- ..., -- -- --]]\n",
      "\n",
      " [[203 211 221 ..., 212 219 --]\n",
      "  [-- -- -- ..., -- -- --]]\n",
      "\n",
      " [[204 206 215 ..., 208 211 --]\n",
      "  [-- -- -- ..., -- -- --]]]\n"
     ]
    }
   ],
   "source": [
    "print(otherArgs.trans.shape)\n",
    "print(otherArgs.trans.dtype)\n",
    "plt.plot(otherArgs.trans[:,0,ex[9]])\n",
    "plt.show()\n"
   ]
  },
  {
   "cell_type": "code",
   "execution_count": 67,
   "metadata": {},
   "outputs": [
    {
     "name": "stdout",
     "output_type": "stream",
     "text": [
      "{'SYSTEM_IDENTIFIER': 'ALTM GEMINI\\x00\\x00\\x00\\x00\\x00\\x00\\x00\\x00\\x00\\x00\\x00\\x00\\x00\\x00\\x00\\x00\\x00\\x00\\x00\\x00\\x00\\x00\\x00\\x00\\x00\\x00\\x00\\x00\\x00\\x00\\x00\\x00\\x00\\x00\\x00\\x00\\x00\\x00\\x00\\x00\\x00\\x00\\x00\\x00\\x00\\x00\\x00\\x00\\x00\\x00\\x00\\x00\\x00', 'PULSE_ATTRIBUTES': 0L, 'FILE_CREATION_DAY': 278L, 'HEADER_SIZE': 352L, 'PROJECT_ID_GUID_DATA_1': 1100783457L, 'PROJECT_ID_GUID_DATA_3': 18685L, 'PROJECT_ID_GUID_DATA_2': 40020L, 'FILE_SOURCE_ID': 111L, 'NUMBER_OF_VARIABLE_LENGTH_RECORDS': 6L, 'X_MAX': 451132.67, 'FILE_CREATION_YEAR': 2017L, 'GENERATING_SOFTWARE': 'OptechLMS\\x00\\x00\\x00\\x00\\x00\\x00\\x00\\x00\\x00\\x00\\x00\\x00\\x00\\x00\\x00\\x00\\x00\\x00\\x00\\x00\\x00\\x00\\x00\\x00\\x00\\x00\\x00\\x00\\x00\\x00\\x00\\x00\\x00\\x00\\x00\\x00\\x00\\x00\\x00\\x00\\x00\\x00\\x00\\x00\\x00\\x00\\x00\\x00\\x00\\x00\\x00\\x00\\x00\\x00\\x00', 'GLOBAL_PARAMETERS': 0L, 'Y_MAX': 4434680.77, 'Z_MAX': 4091.15, 'OFFSET_TO_PULSE_DATA': 2880L, 'Y_MIN': 4433020.94, 'Z_MIN': 2938.98, 'PULSE_SIZE': 48L, 'NUMBER_OF_APPENDED_VARIABLE_LENGTH_RECORDS': 0L, 'FILE_SIGNATURE': 'PulseWavesPulse\\x00', 'PULSE_COMPRESSION': 0L, 'NUMBER_OF_PULSES': 9017196L, 'X_MIN': 441236.94, 'PULSE_FORMAT': 0L, 'PROJECT_ID_GUID_DATA_4': array([158, 206, 240, 130, 150, 234, 176, 105], dtype=uint8)}\n"
     ]
    }
   ],
   "source": [
    "print(header)"
   ]
  },
  {
   "cell_type": "code",
   "execution_count": 69,
   "metadata": {},
   "outputs": [],
   "source": [
    "# save the samples\n",
    "import pickle\n",
    "#p_winfo = r'C:\\Projects\\RD\\NEON_data\\NIWO\\waveform\\pickles\\p_winfo.pickle'\n",
    "#p_trans = r'C:\\Projects\\RD\\NEON_data\\NIWO\\waveform\\pickles\\p_trans.pickle'\n",
    "#p_recv = r'C:\\Projects\\RD\\NEON_data\\NIWO\\waveform\\pickles\\p_recv.pickle'\n",
    "p_otherArgs = r'C:\\Projects\\RD\\NEON_data\\NIWO\\waveform\\pickles\\otherArgs.pickle'\n",
    "\n",
    "with open(p_otherArgs, 'wb') as f:\n",
    "    pickle.dump(otherArgs, f)"
   ]
  },
  {
   "cell_type": "code",
   "execution_count": null,
   "metadata": {},
   "outputs": [],
   "source": []
  }
 ],
 "metadata": {
  "kernelspec": {
   "display_name": "Python 2",
   "language": "python",
   "name": "python2"
  },
  "language_info": {
   "codemirror_mode": {
    "name": "ipython",
    "version": 2
   },
   "file_extension": ".py",
   "mimetype": "text/x-python",
   "name": "python",
   "nbconvert_exporter": "python",
   "pygments_lexer": "ipython2",
   "version": "2.7.14"
  }
 },
 "nbformat": 4,
 "nbformat_minor": 2
}
